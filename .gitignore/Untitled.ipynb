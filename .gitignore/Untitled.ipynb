{
 "cells": [
  {
   "cell_type": "code",
   "execution_count": 2,
   "id": "565ebefd",
   "metadata": {},
   "outputs": [
    {
     "name": "stdout",
     "output_type": "stream",
     "text": [
      "{0: '| White | Blue', 1: '| White | Orange', 2: '| White | Green', 3: '| White | Brown', 4: '| White | Slate', 5: '| Red | Blue', 6: '| Red | Orange', 7: '| Red | Green', 8: '| Red | Brown', 9: '| Red | Slate', 10: '| Black | Blue', 11: '| Black | Orange', 12: '| Black | Green', 13: '| Black | Brown', 14: '| Black | Slate', 15: '| Yellow | Blue', 16: '| Yellow | Orange', 17: '| Yellow | Green', 18: '| Yellow | Brown', 19: '| Yellow | Slate', 20: '| Violet | Blue', 21: '| Violet | Orange', 22: '| Violet | Green', 23: '| Violet | Brown', 24: '| Violet | Slate'}\n"
     ]
    }
   ],
   "source": [
    "color_map = {}\n",
    "\n",
    "def format_color_map():\n",
    "    major_colors = [\"White\", \"Red\", \"Black\", \"Yellow\", \"Violet\"]\n",
    "    minor_colors = [\"Blue\", \"Orange\", \"Green\", \"Brown\", \"Slate\"]\n",
    "    for i, major in enumerate(major_colors):\n",
    "        for j, minor in enumerate(minor_colors):\n",
    "            color_map[i * 5 + j] =  '| ' +  major + ' | ' + minor\n",
    "\n",
    "format_color_map()\n",
    "print(color_map)\n"
   ]
  },
  {
   "cell_type": "code",
   "execution_count": null,
   "id": "e4e00bd3",
   "metadata": {},
   "outputs": [],
   "source": []
  }
 ],
 "metadata": {
  "kernelspec": {
   "display_name": "Python 3 (ipykernel)",
   "language": "python",
   "name": "python3"
  },
  "language_info": {
   "codemirror_mode": {
    "name": "ipython",
    "version": 3
   },
   "file_extension": ".py",
   "mimetype": "text/x-python",
   "name": "python",
   "nbconvert_exporter": "python",
   "pygments_lexer": "ipython3",
   "version": "3.9.7"
  }
 },
 "nbformat": 4,
 "nbformat_minor": 5
}
